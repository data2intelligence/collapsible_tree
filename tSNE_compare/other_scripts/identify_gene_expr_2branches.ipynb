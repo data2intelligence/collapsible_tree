{
 "cells": [
  {
   "cell_type": "code",
   "execution_count": 59,
   "metadata": {},
   "outputs": [],
   "source": [
    "import os\n",
    "import pandas as pd\n",
    "import math"
   ]
  },
  {
   "cell_type": "code",
   "execution_count": 60,
   "id": "15c612d7",
   "metadata": {},
   "outputs": [],
   "source": [
    "# Load the annotation data\n",
    "matrix_anno = pd.read_csv(\"../../data/csv.data/E-MTAB-6149_NSCLC_meta.csv\")\n",
    "matrix_anno = matrix_anno.rename(columns={\"Unnamed: 0\": \"cellName\"})"
   ]
  },
  {
   "cell_type": "code",
   "execution_count": 61,
   "id": "429f58c7",
   "metadata": {},
   "outputs": [],
   "source": [
    "# Process the annotation data\n",
    "\n",
    "# remove \"macrophage other\", \"malignant\"\n",
    "matrix_anno.drop(matrix_anno[matrix_anno[\"uniformCellTypeSub\"] == \"Malignant\"].index, inplace=True)\n",
    "matrix_anno.drop(matrix_anno[matrix_anno[\"uniformCellTypeSub\"] == \"Macrophage other\"].index, inplace=True)\n",
    "\n",
    "# make plasma subtype of B cell\n",
    "matrix_anno.loc[matrix_anno[\"uniformCellTypeSub\"] == \"Plasma\", \"uniformCellType\"] = \"B cell\"\n",
    "\n",
    "anno_celltype = matrix_anno.loc[:, [\"cellName\", \"uniformCellType\", \"uniformCellTypeSub\"]]\n"
   ]
  },
  {
   "cell_type": "code",
   "execution_count": 62,
   "id": "6089d359",
   "metadata": {},
   "outputs": [],
   "source": [
    "os.getcwd()\n",
    "# matrix_data = pd.read_csv(\"../../data/csv.data/E-MTAB-6149_NSCLC_TPM.csv\")\n",
    "matrix_data = pd.read_csv(\"../../data/csv.data/test1000gene.csv\")"
   ]
  },
  {
   "cell_type": "code",
   "execution_count": 63,
   "id": "a65ea4da",
   "metadata": {},
   "outputs": [
    {
     "name": "stdout",
     "output_type": "stream",
     "text": [
      "(1000, 39324)\n"
     ]
    }
   ],
   "source": [
    "print(matrix_data.shape)"
   ]
  },
  {
   "cell_type": "code",
   "execution_count": 64,
   "id": "9e236fb2",
   "metadata": {},
   "outputs": [],
   "source": [
    "\n",
    "matrix_data = matrix_data.rename(columns={\"Unnamed: 0\": \"cellName\"})\n",
    "matrix_transpose = matrix_data.T\n",
    "cellName = matrix_transpose.index.tolist()\n",
    "\n",
    "# rename the col name for matrix_data.T\n",
    "matrix_transpose[\"cellName\"] = cellName\n",
    "matrix_transpose.columns = matrix_transpose.iloc[0, :]\n",
    "matrix_transpose.drop(index= \"cellName\", inplace=True)"
   ]
  },
  {
   "cell_type": "code",
   "execution_count": 80,
   "id": "f16aca1a",
   "metadata": {},
   "outputs": [
    {
     "name": "stderr",
     "output_type": "stream",
     "text": [
      "/Users/_alanglanglang/Library/Python/3.9/lib/python/site-packages/IPython/core/interactiveshell.py:3460: FutureWarning: Dropping invalid columns in DataFrameGroupBy.mean is deprecated. In a future version, a TypeError will be raised. Before calling .mean, select only columns which should be valid for the function.\n",
      "  exec(code_obj, self.user_global_ns, self.user_ns)\n"
     ]
    },
    {
     "name": "stdout",
     "output_type": "stream",
     "text": [
      "                           SAMD11 NOC2L KLHL17 PLEKHN1 PERM1  HES4 ISG15  \\\n",
      "uniformCellTypeSub                                                         \n",
      "B cell exhausted             0.00  2.75   0.00    0.04  0.00  0.41  5.46   \n",
      "B cell naive                 0.00  2.98   0.00    0.15  0.00  0.00  4.20   \n",
      "B cell non-switched memory   0.00  2.92   0.28    0.00  0.00  0.33  4.89   \n",
      "B cell switched memory       0.12  2.12   0.16    0.21  0.00  0.68  5.11   \n",
      "CAF                          1.70  2.68   0.44    0.41  0.09  1.47  5.39   \n",
      "Endothelial                  0.08  2.61   0.85    0.43  0.00  0.76  5.32   \n",
      "Macrophage M1                0.03  1.48   0.05    0.32  0.00  0.96  8.99   \n",
      "Macrophage M2                0.04  1.67   0.25    0.10  0.01  0.14  6.82   \n",
      "Mast                         0.00  1.99   0.00    0.26  0.00  0.63  4.65   \n",
      "NK                           0.00  2.74   0.12    0.18  0.00  0.47  4.81   \n",
      "Plasma                       0.62  2.85   0.41    1.00  0.00  1.11  6.65   \n",
      "T CD4 naive                  0.00  2.28   0.00    0.00  0.00  0.00  4.67   \n",
      "T CD8 central memory         0.00  2.69   0.21    0.85  0.00  0.29  5.52   \n",
      "T CD8 effector               0.03  2.77   0.35    1.13  0.00  0.24  5.90   \n",
      "T CD8 effector memory        0.03  2.65   0.30    0.79  0.00  0.20  6.12   \n",
      "T CD8 exhausted              0.03  2.87   0.10    0.68  0.00  0.58  7.90   \n",
      "Tfh                          0.10  2.51   0.21    0.53  0.00  0.40  5.58   \n",
      "Th1                          0.08  2.48   0.13    0.99  0.00  0.36  6.08   \n",
      "Th17                         0.12  2.83   0.28    1.21  0.00  0.00  5.69   \n",
      "Th2                          0.00  2.40   0.45    0.52  0.00  0.09  5.91   \n",
      "Treg                         0.03  2.49   0.48    1.26  0.00  0.44  7.34   \n",
      "cDC1 CLEC9A                  0.00  2.07   0.00    0.00  0.00  0.00  5.75   \n",
      "cDC2 CD1C                    0.00  0.00   0.00    0.00  0.00  0.00  4.82   \n",
      "cDC3 LAMP3                   0.00  1.21   0.00    0.00  0.00  0.00  6.02   \n",
      "pDC                          0.00  2.75   0.54    0.00  0.00  0.00  6.02   \n",
      "\n",
      "                            AGRN RNF223 C1orf159  ... PRKAB2  FMO5 CHD1L  \\\n",
      "uniformCellTypeSub                                ...                      \n",
      "B cell exhausted            1.47   0.00     0.35  ...   1.18  0.85  1.64   \n",
      "B cell naive                0.46   0.00     0.52  ...   1.01  1.40  1.87   \n",
      "B cell non-switched memory  0.62   0.00     0.13  ...   1.65  0.23  1.68   \n",
      "B cell switched memory      0.92   0.10     0.57  ...   0.11  0.40  1.61   \n",
      "CAF                         2.10   0.02     0.68  ...   1.91  0.31  1.71   \n",
      "Endothelial                 3.05   0.04     0.29  ...   1.10  0.22  1.72   \n",
      "Macrophage M1               0.75   0.00     0.31  ...   0.59  0.29  1.28   \n",
      "Macrophage M2               1.37   0.02     0.37  ...   0.54  0.41  1.38   \n",
      "Mast                        1.28   0.00     0.32  ...   1.27  1.47  2.14   \n",
      "NK                          0.96   0.08     0.73  ...   1.01  0.35  1.44   \n",
      "Plasma                      2.57   0.00     0.67  ...   0.47  0.14  0.93   \n",
      "T CD4 naive                 0.00   0.00     0.96  ...   0.00  0.00  0.00   \n",
      "T CD8 central memory        1.42   0.00     1.18  ...   0.86  0.10  1.30   \n",
      "T CD8 effector              1.68   0.06     1.15  ...   1.20  0.39  1.07   \n",
      "T CD8 effector memory       1.13   0.05     0.61  ...   1.32  0.13  1.46   \n",
      "T CD8 exhausted             0.89   0.03     0.60  ...   1.06  0.06  1.79   \n",
      "Tfh                         1.06   0.10     0.53  ...   0.84  0.38  0.95   \n",
      "Th1                         0.70   0.10     0.61  ...   1.30  0.28  1.33   \n",
      "Th17                        0.81   0.00     0.47  ...   1.02  0.32  1.22   \n",
      "Th2                         0.57   0.00     0.77  ...   1.09  0.02  1.56   \n",
      "Treg                        1.31   0.08     0.59  ...   0.98  0.00  1.44   \n",
      "cDC1 CLEC9A                 0.47   0.00     1.46  ...   0.00  0.00  1.50   \n",
      "cDC2 CD1C                   0.00   0.00     0.00  ...   0.00  0.00  5.11   \n",
      "cDC3 LAMP3                  0.72   0.00     0.00  ...   0.00  0.00  1.05   \n",
      "pDC                         0.00   0.00     0.37  ...   0.90  0.27  1.24   \n",
      "\n",
      "                            BCL9  ACP6  GJA5  GJA8 GPR89B NBPF11 PPIAL4G  \n",
      "uniformCellTypeSub                                                        \n",
      "B cell exhausted            0.23  0.70  0.00  0.00   0.61   0.13    0.00  \n",
      "B cell naive                0.00  0.00  0.00  0.00   0.78   0.51    0.00  \n",
      "B cell non-switched memory  0.34  1.01  0.00  0.00   0.86   1.04    0.00  \n",
      "B cell switched memory      0.22  0.77  0.18  0.00   0.39   0.63    0.00  \n",
      "CAF                         0.42  0.80  2.02  0.00   0.65   0.56    0.00  \n",
      "Endothelial                 0.54  0.69  4.07  0.00   0.83   0.62    0.00  \n",
      "Macrophage M1               0.15  0.06  0.00  0.00   0.24   0.37    0.00  \n",
      "Macrophage M2               0.25  0.42  0.06  0.00   0.47   0.31    0.00  \n",
      "Mast                        0.44  0.49  0.36  0.02   0.35   0.34    0.00  \n",
      "NK                          0.32  0.47  0.00  0.00   1.03   0.87    0.00  \n",
      "Plasma                      0.06  0.64  0.03  0.00   1.02   0.10    0.00  \n",
      "T CD4 naive                 0.00  0.00  0.00  0.00   2.00   0.00    0.00  \n",
      "T CD8 central memory        0.56  1.14  0.00  0.00   1.16   0.65    0.07  \n",
      "T CD8 effector              0.30  1.14  0.15  0.00   1.22   0.52    0.04  \n",
      "T CD8 effector memory       0.28  1.20  0.07  0.00   0.94   0.31    0.05  \n",
      "T CD8 exhausted             0.20  1.03  0.00  0.00   1.10   0.42    0.06  \n",
      "Tfh                         0.48  0.74  0.03  0.00   1.03   0.66    0.00  \n",
      "Th1                         0.09  1.05  0.06  0.00   0.76   0.64    0.00  \n",
      "Th17                        0.20  0.94  0.00  0.00   1.32   0.64    0.00  \n",
      "Th2                         0.22  0.75  0.00  0.00   1.08   0.35    0.00  \n",
      "Treg                        0.34  1.37  0.00  0.00   1.08   0.25    0.00  \n",
      "cDC1 CLEC9A                 0.00  0.65  0.20  0.00   0.53   0.00    0.00  \n",
      "cDC2 CD1C                   0.00  0.00  0.00  0.00   0.00   0.00    0.00  \n",
      "cDC3 LAMP3                  0.00  0.00  0.00  0.00   0.00   0.00    0.00  \n",
      "pDC                         0.00  0.00  0.00  0.00   0.75   0.00    0.00  \n",
      "\n",
      "[25 rows x 1000 columns]\n"
     ]
    }
   ],
   "source": [
    "# merge matrix with anno\n",
    "merge_df = pd.merge(matrix_transpose, anno_celltype, on=\"cellName\", how=\"inner\")\n",
    "\n",
    "# group by subtype. calculate mean expression\n",
    "group_subtype_mean = merge_df.groupby(\"uniformCellTypeSub\").mean()\n",
    "\n",
    "# ####NO longer need to calc mean for Major cell type. \n",
    "\n",
    "# drop duplicated row\n",
    "group_subtype_mean = group_subtype_mean.drop_duplicates()\n",
    "\n",
    "allCellType = group_subtype_mean\n",
    "\n",
    "# rescale\n",
    "allCellType_reScale = allCellType.applymap(lambda x: math.log2(x/10 + 1))\n",
    "\n",
    "# 2 decimals\n",
    "allCellType_reScale= allCellType_reScale.applymap(lambda x: format(float(x), \".2f\"))\n",
    "\n",
    "print(allCellType_reScale)"
   ]
  },
  {
   "cell_type": "code",
   "execution_count": null,
   "id": "c970f715",
   "metadata": {},
   "outputs": [],
   "source": [
    "print(group_subtype_mean)"
   ]
  },
  {
   "cell_type": "code",
   "execution_count": null,
   "id": "02e5185f",
   "metadata": {},
   "outputs": [],
   "source": [
    "# For each gene, score the expression level for each celltype. (top  10% ==1, else, 0)\n",
    "\n",
    "### test with 3 genes\n",
    "### mean_expr_celltype = pd.read_csv(\"../../data/mean.exp.reScale.csv\")\n",
    "mean_expr_celltype = allCellType_reScale\n",
    "\n",
    "scoring_df = pd.DataFrame()\n",
    "scoring_df.index = mean_expr_celltype.iloc[:,0]\n",
    "\n",
    "# assign 1/0 new label for all cell type to indicate high/low expr level\n",
    "gene_list = mean_expr_celltype.columns.tolist()\n",
    "\n",
    "for gene in gene_list:\n",
    "    mean_expr_celltype[gene] = mean_expr_celltype[gene].map(lambda x: float(x))\n",
    "    top20quantl = mean_expr_celltype[gene].quantile(.2)\n",
    "    mean_expr_celltype.loc[\"top20quantl\", gene]  = top20quantl\n",
    "\n",
    "    median = mean_expr_celltype[gene].median()\n",
    "    mean_expr_celltype[gene] = mean_expr_celltype[gene].map(lambda x :1 if (x > median and x > 1)else 0 )\n",
    "\n",
    "    # mean_expr_celltype[gene] = mean_expr_celltype[gene].map(lambda x :1 if x > 0.5 else 0 )\n",
    "\n",
    "###  drop added parent node\n",
    "# group_subtype_mean = group_subtype_mean.iloc[:25,:]\n",
    "\n",
    "print(mean_expr_celltype)\n"
   ]
  },
  {
   "cell_type": "code",
   "execution_count": 101,
   "id": "28ee6116",
   "metadata": {},
   "outputs": [
    {
     "name": "stdout",
     "output_type": "stream",
     "text": [
      "Index(['non_lymph_sum', 'lymph_sum'], dtype='object')\n",
      "          non_lymph_sum  lymph_sum  exprBoth\n",
      "NOC2L                 4          9         1\n",
      "ISG15                 6          7         1\n",
      "TNFRSF18              2         11         1\n",
      "TNFRSF4               4          9         1\n",
      "SDF4                  4          9         1\n",
      "...                 ...        ...       ...\n",
      "PEX11B                6          7         1\n",
      "RBM8A                 3         10         1\n",
      "LIX1L                 3         10         1\n",
      "POLR3GL               1         12         1\n",
      "PRKAB2                3         10         1\n",
      "\n",
      "[335 rows x 3 columns]\n",
      "(335, 3)\n"
     ]
    }
   ],
   "source": [
    "# Non-lymphoid branch celltypes \n",
    "non_lymph = [\"CAF\",\"Endothelial\", \"Macrophage M1\",\"Macrophage M2\",\n",
    "              \"Mast\",\"Plasma\", \"cDC1 CLEC9A\", \"cDC2 CD1C\", \n",
    "              \"cDC3 LAMP3\",\"pDC\"]\n",
    "\n",
    "non_lymph_df = mean_expr_celltype.loc[non_lymph,:]\n",
    "lymph_df = mean_expr_celltype.drop(index = non_lymph)\n",
    "\n",
    "# non_lymph_df.loc[\"sum\"] = non_lymph_df.sum()\n",
    "# lymph_df.loc[\"sum\"] = lymph_df.sum()\n",
    "\n",
    "two_branch = pd.DataFrame({\"non_lymph_sum\":non_lymph_df.sum(),\n",
    "                            \"lymph_sum\":lymph_df.sum()\n",
    "                           })\n",
    "two_branch.columns = [\"non_lymph_sum\", \"lymph_sum\"]\n",
    "print(two_branch.columns)\n",
    "\n",
    "two_branch[\"exprBoth\"] =  two_branch.apply(lambda x: 1 \\\n",
    "                                       if (x['non_lymph_sum'] * x['lymph_sum'] != 0 \\\n",
    "                                          and x['non_lymph_sum'] + x['lymph_sum']>12.5) else 0, axis=1)\n",
    "\n",
    "# x[\"non_lymph_sum\"] + x[\"lymph_sum\"]\n",
    "both_branch = two_branch[two_branch[\"exprBoth\"]== 1]\n",
    "print(both_branch)\n",
    "print(both_branch.shape)\n",
    "# two_branch.to_csv(\"output/two_branch.csv\")\n",
    "both_branch.to_csv(\"output/both_branch_more12.csv\")"
   ]
  },
  {
   "cell_type": "code",
   "execution_count": null,
   "id": "99599c79",
   "metadata": {},
   "outputs": [],
   "source": []
  },
  {
   "cell_type": "code",
   "execution_count": null,
   "id": "a39821b5",
   "metadata": {},
   "outputs": [],
   "source": []
  }
 ],
 "metadata": {
  "kernelspec": {
   "display_name": "Python 3",
   "language": "python",
   "name": "python3"
  },
  "language_info": {
   "codemirror_mode": {
    "name": "ipython",
    "version": 3
   },
   "file_extension": ".py",
   "mimetype": "text/x-python",
   "name": "python",
   "nbconvert_exporter": "python",
   "pygments_lexer": "ipython3",
   "version": "3.9.16"
  }
 },
 "nbformat": 4,
 "nbformat_minor": 5
}
